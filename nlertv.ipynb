{
  "cells": [
    {
      "cell_type": "code",
      "execution_count": 1,
      "metadata": {
        "id": "EtnaSlH-wplB"
      },
      "outputs": [],
      "source": [
        "# created on Dec 24, 2020\n",
        "# modified on April 12, 2022\n",
        "# @author:          Bo Zhao\n",
        "# @email:           zhaobo@uw.edu\n",
        "# @website:         https://hgis.uw.edu\n",
        "# @organization:    Department of Geography, University of Washington, Seattle\n",
        "# @description:     Search geo-tagged tweets within the U.S. This script is modified from https://github.com/shawn-terryah/Twitter_Geolocation"
      ]
    },
    {
      "cell_type": "code",
      "execution_count": 2,
      "metadata": {
        "colab": {
          "base_uri": "https://localhost:8080/"
        },
        "id": "f-bMdKMawxnQ",
        "outputId": "1accaeb7-bba7-4832-acb8-d09d34964804"
      },
      "outputs": [
        {
          "name": "stdout",
          "output_type": "stream",
          "text": [
            "Mounted at /gdrive\n"
          ]
        }
      ],
      "source": [
        "import tweepy, json, time\n",
        "import pandas as pd\n",
        "from google.colab import files\n",
        "# Create data on to Google Drive\n",
        "from google.colab import drive\n",
        "# Mount your Drive to the Colab VM.\n",
        "drive.mount('/gdrive')"
      ]
    },
    {
      "cell_type": "code",
      "execution_count": 3,
      "metadata": {
        "id": "dEyPts-ZwplE"
      },
      "outputs": [],
      "source": [
        "class StreamListener(tweepy.StreamListener):\n",
        "    \"\"\"tweepy.StreamListener is a class provided by tweepy used to access\n",
        "    the Twitter Streaming API to collect tweets in real-time.\n",
        "    \"\"\"\n",
        "\n",
        "    def __init__(self, time_limit=60, file=\"\"):\n",
        "        \"\"\"class initialization\"\"\"\n",
        "        self.start_time = time.time()\n",
        "        self.limit = time_limit\n",
        "        self.result = []\n",
        "        self.f = file\n",
        "        super(StreamListener, self).__init__()\n",
        "\n",
        "    def on_data(self, data):\n",
        "        \"\"\"This is called when data are streamed in.\"\"\"\n",
        "        if (time.time() - self.start_time) < self.limit:\n",
        "            datajson = json.loads(data)\n",
        "            # print(datajson, \"\\n\")\n",
        "            if 'id' not in datajson.keys():\n",
        "                time.sleep(10)\n",
        "            else:\n",
        "                id = datajson['id']\n",
        "                username = datajson['user']['screen_name']\n",
        "                created_at = datajson['created_at']\n",
        "                text = datajson['text'].strip().replace(\"\\n\", \"\")\n",
        "\n",
        "                # process the geo-tags\n",
        "                if datajson['coordinates'] == None:\n",
        "                    try:\n",
        "                        bbox = datajson['place']['bounding_box']['coordinates'][0]\n",
        "                        lng = (bbox[0][0] + bbox[2][0]) / 2.0\n",
        "                        lat = (bbox[0][1] + bbox[1][1]) / 2.0\n",
        "                    except:\n",
        "                        lat = 0\n",
        "                        lng = 0\n",
        "                else:\n",
        "                    lng = datajson['coordinates']['coordinates'][0]\n",
        "                    lat = datajson['coordinates']['coordinates'][1]\n",
        "\n",
        "                if lat != 0:\n",
        "                    row = {\n",
        "                        'id': id,\n",
        "                        'username': username,\n",
        "                        'created_at': created_at,\n",
        "                        'lng': lng,\n",
        "                        'lat': lat,\n",
        "                        'text': text\n",
        "                    }\n",
        "                    print(row)\n",
        "                    self.result.append(row)\n",
        "                else:\n",
        "                    pass\n",
        "        else:\n",
        "            df = pd.DataFrame(self.result)\n",
        "            df.to_csv(self.f, index=False)\n",
        "            # download the csv to your local computer\n",
        "            files.download(self.f)\n",
        "            print(\"the csv has been downloaded to your local computer. The program has been completed successfully.\")\n",
        "            return False"
      ]
    },
    {
      "cell_type": "code",
      "execution_count": 11,
      "metadata": {
        "colab": {
          "base_uri": "https://localhost:8080/",
          "height": 1000
        },
        "id": "5Xzyo_OiwplG",
        "outputId": "25ab7349-7bdf-4a13-e308-fa3e9fbb14fc"
      },
      "outputs": [
        {
          "name": "stdout",
          "output_type": "stream",
          "text": [
            "{'id': 1514334003322667013, 'username': 'lunglegband', 'created_at': 'Wed Apr 13 20:05:36 +0000 2022', 'lng': -4.2417514999999995, 'lat': 55.85830249999999, 'text': '@keepingitpeel @YesterdaySince Woohoo x'}\n",
            "{'id': 1514334005583400975, 'username': 'lipthog', 'created_at': 'Wed Apr 13 20:05:36 +0000 2022', 'lng': -1.7396195, 'lat': 55.1314185, 'text': '@BBCPolitics I dont think principles come into it.'}\n",
            "{'id': 1514334008091553800, 'username': 'Gaz_E', 'created_at': 'Wed Apr 13 20:05:37 +0000 2022', 'lng': -2.5933005, 'lat': 53.382608000000005, 'text': 'Another fucking charlatan whatabouting again. 🙄The issue is the useless sack of shite of a PM lied, to well, every… https://t.co/PhEu7VmZFx'}\n",
            "{'id': 1514334010335502355, 'username': 'jamesummer3', 'created_at': 'Wed Apr 13 20:05:37 +0000 2022', 'lng': -0.34654949999999995, 'lat': 51.376672, 'text': 'Been supplied on FB a YouTube video of G7 not NATO'}\n",
            "{'id': 1514334012088664067, 'username': 'SukiHubbard', 'created_at': 'Wed Apr 13 20:05:38 +0000 2022', 'lng': -0.07939436, 'lat': 51.47496745, 'text': 'Just posted a photo @ London, Unιted Kingdom https://t.co/IioJ9lgsTL'}\n",
            "{'id': 1514334012285804551, 'username': '2kniveskitchen', 'created_at': 'Wed Apr 13 20:05:38 +0000 2022', 'lng': -1.4344035, 'lat': 54.917531, 'text': 'Easter opening hours! The special this week house smoked sausage 😃 Also open for breakfast Friday-Saturday.… https://t.co/tRF73hZ6JZ'}\n",
            "{'id': 1514334022050238470, 'username': 'sunnychuks', 'created_at': 'Wed Apr 13 20:05:40 +0000 2022', 'lng': -0.1937195, 'lat': 51.4516565, 'text': \"@VChrome144 @cedoziemm @real_IpobDOS If I ask you to show me where he mentioned amnesty for IPOB now, you'll start beating about the bush.\"}\n",
            "{'id': 1514334022754660352, 'username': 'DustinMorris13', 'created_at': 'Wed Apr 13 20:05:40 +0000 2022', 'lng': -114.087851, 'lat': 51.027664, 'text': \"@MangiacasaleJoe @FreePasghetti @VoiceOfFranky Exactly!  They're also extremely racist as a whole.\"}\n",
            "{'id': 1514334023367147526, 'username': 'annecb85', 'created_at': 'Wed Apr 13 20:05:40 +0000 2022', 'lng': -4.2417514999999995, 'lat': 55.85830249999999, 'text': 'Wowsers...have Blaze not bothered to turn up?!'}\n",
            "{'id': 1514334027809013770, 'username': 'GK1Lob', 'created_at': 'Wed Apr 13 20:05:41 +0000 2022', 'lng': -0.4323375, 'lat': 51.8944435, 'text': 'Could you imagine if we had this Citizen app in the UK 😭😭😭'}\n",
            "{'id': 1514334029264433163, 'username': 'InsklSkinskl', 'created_at': 'Wed Apr 13 20:05:42 +0000 2022', 'lng': -3.927119, 'lat': 50.997507, 'text': '@PippaCrerar It is another disgrace, caused by the government,that the investigation has taken that long. Is that t… https://t.co/VD1FbYe8qV'}\n",
            "{'id': 1514334028056436750, 'username': 'mayorofderry', 'created_at': 'Wed Apr 13 20:05:41 +0000 2022', 'lng': -5.928413, 'lat': 54.595869, 'text': 'When your wife returns from a university work event with a bag of gold   \\U0001fae1  #HappyEaster https://t.co/dNeY6tWtoS'}\n",
            "{'id': 1514334030501666823, 'username': 'OSullivanSeanie', 'created_at': 'Wed Apr 13 20:05:42 +0000 2022', 'lng': -8.0543455, 'lat': 52.874492000000004, 'text': '@bigmac19781 @Kala_Management @TheAngryBarten3 @LVADublinPubs @VFIpubs Think you can claim your clothes against tax too of using for work'}\n",
            "{'id': 1514334038085017606, 'username': '_georgebello', 'created_at': 'Wed Apr 13 20:05:44 +0000 2022', 'lng': 8.520513000000001, 'lat': 52.015122, 'text': '@CoachSBruce @ccs_lady Big time! Congrats @SarahNKing2 🙌'}\n",
            "{'id': 1514334038961627148, 'username': 'sean_est1976', 'created_at': 'Wed Apr 13 20:05:44 +0000 2022', 'lng': -1.6344325, 'lat': 54.779433999999995, 'text': '@Lostboomer Yeah they did serious damage to your shins too if you weren’t careful 😩'}\n",
            "{'id': 1514334040102514699, 'username': 'redrum57', 'created_at': 'Wed Apr 13 20:05:44 +0000 2022', 'lng': -2.915427, 'lat': 53.4198785, 'text': 'They broke the law and then lied to cover their tracks.Boris Johnson and Rishi Sunak must resign.'}\n",
            "{'id': 1514334041432068098, 'username': 'kathryn_tourism', 'created_at': 'Wed Apr 13 20:05:45 +0000 2022', 'lng': -2.5853900000000003, 'lat': 51.457876999999996, 'text': '@EllieFreemanBS3 @bletchleypark New exhibition opening end of the month so planning a return trip later this year to see that.'}\n",
            "{'id': 1514334050051371016, 'username': 'FitzpatrickKev', 'created_at': 'Wed Apr 13 20:05:47 +0000 2022', 'lng': -2.4349524999999996, 'lat': 53.5841845, 'text': 'Can’t wait for tomorrow night  @charfitz96 Going to be awesome 🎯'}\n",
            "{'id': 1514334049959292931, 'username': 'portishair', 'created_at': 'Wed Apr 13 20:05:47 +0000 2022', 'lng': -0.07775850000000001, 'lat': 51.796608000000006, 'text': 'Finally that newspaper recognises Yemen. https://t.co/s27mp6NM3d'}\n",
            "{'id': 1514334053901737991, 'username': 'London_W4', 'created_at': 'Wed Apr 13 20:05:48 +0000 2022', 'lng': -0.0601675, 'lat': 51.547644500000004, 'text': '@soniast94597425 Thankyou'}\n",
            "{'id': 1514334056397352978, 'username': 'Balance2Extreme', 'created_at': 'Wed Apr 13 20:05:48 +0000 2022', 'lng': -0.2307385, 'lat': 51.754059, 'text': 'Will it be sustainable 😆 Write down this on clean paper &amp; open roza with #Bismillah crunch it heheheRest… https://t.co/g5OecXAyM8'}\n",
            "{'id': 1514334058511503361, 'username': 'SevernSport', 'created_at': 'Wed Apr 13 20:05:49 +0000 2022', 'lng': -2.2294175, 'lat': 51.8530915, 'text': '64 mins: Ollie Long intercepts the ball on half way and flies forward before slipping in Jordan Alderman, the forwa… https://t.co/hMynP3jCnv'}\n",
            "{'id': 1514334061015277575, 'username': 'doreenmoss', 'created_at': 'Wed Apr 13 20:05:49 +0000 2022', 'lng': -9.8693295, 'lat': 52.1455165, 'text': '@SarahStell5 There are, just hard to find! Keep searching.'}\n",
            "{'id': 1514334061153636359, 'username': 'deeteeass', 'created_at': 'Wed Apr 13 20:05:49 +0000 2022', 'lng': -1.508545, 'lat': 53.6791975, 'text': \"Presentation done for tomorrow's interview! ☑️ https://t.co/7PGGXTCBvU\"}\n",
            "{'id': 1514334061510148100, 'username': 'galltmelyd', 'created_at': 'Wed Apr 13 20:05:49 +0000 2022', 'lng': -3.4157314999999997, 'lat': 53.3326115, 'text': 'Be that lady in red #80s #vintagefashion https://t.co/4WTsfFmw56'}\n",
            "{'id': 1514334061816389637, 'username': 'jjwebb1707', 'created_at': 'Wed Apr 13 20:05:49 +0000 2022', 'lng': -0.7643525, 'lat': 54.43651, 'text': '@by_kalesnikava @Tsihanouskaya Your spirit resounds throughout the free world, wherever people yearn to live free.… https://t.co/DBlrureWWh'}\n",
            "{'id': 1514334063485669383, 'username': 'karen_coops81', 'created_at': 'Wed Apr 13 20:05:50 +0000 2022', 'lng': -3.2030085, 'lat': 55.9431955, 'text': '@rainie1410 @julie_bear11 Happy Birthday Julie 🎂🎈🎂🎈🎂 https://t.co/qRgmr8tuUL'}\n",
            "{'id': 1514334066262249476, 'username': 'DebraWard', 'created_at': 'Wed Apr 13 20:05:51 +0000 2022', 'lng': -113.4926175, 'lat': 53.5558195, 'text': '@RossNalubega Congratulations!!!'}\n",
            "{'id': 1514334067403239436, 'username': 'mandmcmillan67', 'created_at': 'Wed Apr 13 20:05:51 +0000 2022', 'lng': -2.8793305, 'lat': 53.358258500000005, 'text': 'Me &amp; my eldest 🥰 https://t.co/mbzEkW2Fp8'}\n",
            "{'id': 1514334071421296645, 'username': 'LindaHusband4', 'created_at': 'Wed Apr 13 20:05:52 +0000 2022', 'lng': -1.811758, 'lat': 53.647392499999995, 'text': '@Kalvinphillips @yorkshirecancer Special children with a special and humble person. 🥰💛💙'}\n",
            "{'id': 1514334071186464774, 'username': 'NeilAlcock', 'created_at': 'Wed Apr 13 20:05:52 +0000 2022', 'lng': -4.149974, 'lat': 51.841098, 'text': 'Lots of great plants seen today! https://t.co/3cOxWdTxND'}\n",
            "{'id': 1514334074676166661, 'username': 'stewie55uk', 'created_at': 'Wed Apr 13 20:05:53 +0000 2022', 'lng': -4.465973999999999, 'lat': 55.9056025, 'text': '@GDHCAMERO @Bat @DANIELakaDEE @SEGAwhisperer @ColonelFalcon @SEGA_OFFICIAL Oooo my now that is something special th… https://t.co/9uhu1AiOCH'}\n",
            "{'id': 1514334077842866179, 'username': 'Kirsty160692', 'created_at': 'Wed Apr 13 20:05:53 +0000 2022', 'lng': -4.272957, 'lat': 53.176985, 'text': \"@jessLbracey @TheAmazons Gotta love a Ginger. They might have no Souls but that's OK 😆\"}\n",
            "{'id': 1514334078341951490, 'username': 'Bashfulbri', 'created_at': 'Wed Apr 13 20:05:53 +0000 2022', 'lng': -5.883101, 'lat': 54.5667035, 'text': '@Subxnotdead Nice and lively. The dead Kennedys giving another great performance!'}\n",
            "{'id': 1514334077758971906, 'username': 'AmyJenk79524058', 'created_at': 'Wed Apr 13 20:05:53 +0000 2022', 'lng': -4.6395385000000005, 'lat': 53.308088, 'text': 'Another make #anglesey #ynysmon #holyhead #northwales https://t.co/7ql7ccFagg'}\n",
            "{'id': 1514334078723665920, 'username': 'BartramKeanan', 'created_at': 'Wed Apr 13 20:05:53 +0000 2022', 'lng': -1.13067, 'lat': 52.6262635, 'text': '@TalesSophie It really is isn’t it ! So glad that funding has been made available for local organisations to suppor… https://t.co/8nBbkikURP'}\n",
            "{'id': 1514334085941972996, 'username': 'MaxTheLantern', 'created_at': 'Wed Apr 13 20:05:55 +0000 2022', 'lng': -0.1815875, 'lat': 51.3618975, 'text': '@Ekremkonur If we lose Kim Or Szalai.. we have to keep Serdar.'}\n",
            "{'id': 1514334086726361090, 'username': 'tamso1970', 'created_at': 'Wed Apr 13 20:05:55 +0000 2022', 'lng': -2.8452005, 'lat': 55.550827999999996, 'text': '@SarahAndCo3 I think it stems from cavewife using a hard on as a tea towel hanger. CaveBloke liked the way it looked.'}\n",
            "{'id': 1514334090165641219, 'username': 'MarkyHarky', 'created_at': 'Wed Apr 13 20:05:56 +0000 2022', 'lng': -2.9402835, 'lat': 54.9023315, 'text': '@MacyDodds Yesss! Well done!!!'}\n",
            "{'id': 1514334091742744583, 'username': 'ospreystar127', 'created_at': 'Wed Apr 13 20:05:57 +0000 2022', 'lng': 0.135916, 'lat': 52.200974, 'text': \"@PaulEmbery It's not odd, wouldn't expect him to know anything. Thick as pigs shit\"}\n",
            "{'id': 1514334097853853711, 'username': 'renkadima', 'created_at': 'Wed Apr 13 20:05:58 +0000 2022', 'lng': -0.9213100000000001, 'lat': 52.48042, 'text': \"@WestOnColfax I'm sure it is - I just don't watch much telly 😉\"}\n",
            "{'id': 1514334097958739979, 'username': 'harpreetkhara', 'created_at': 'Wed Apr 13 20:05:58 +0000 2022', 'lng': -2.915427, 'lat': 53.4198785, 'text': 'when in Rome 😆 https://t.co/48ulYYFjS8'}\n",
            "{'id': 1514334098705293325, 'username': 'LukeConlaund4', 'created_at': 'Wed Apr 13 20:05:58 +0000 2022', 'lng': 0.356761, 'lat': 51.2485435, 'text': '@no1lino What a moment on LIVE television'}\n",
            "{'id': 1514334099284148235, 'username': 'loyolny', 'created_at': 'Wed Apr 13 20:05:58 +0000 2022', 'lng': 21.061790000000002, 'lat': 52.2328355, 'text': 'Good guys Swedes'}\n",
            "{'id': 1514334101414846468, 'username': 'LiberdaWita', 'created_at': 'Wed Apr 13 20:05:59 +0000 2022', 'lng': 16.9062755, 'lat': 52.3994955, 'text': '@PilchTomek Amen 🙏'}\n",
            "{'id': 1514334110386462725, 'username': 'MasterOfMalt', 'created_at': 'Wed Apr 13 20:06:01 +0000 2022', 'lng': -4.200441, 'lat': 57.739454, 'text': 'We’re making Scotland’s answer to the Manhattan with Black Bottle Double Cask. It’s the Rob Roy! #Cocktail… https://t.co/y3uwwz1Dj4'}\n",
            "{'id': 1514334116468170767, 'username': 'BristolCitySCT', 'created_at': 'Wed Apr 13 20:06:02 +0000 2022', 'lng': -2.5853900000000003, 'lat': 51.457876999999996, 'text': 'Thank you to @Lsmith_12 &amp; @gavmarshall77 for answering questions (pictured here with our board members @DMWithers_… https://t.co/w4nximb4xa'}\n",
            "{'id': 1514334117508227076, 'username': 'BhamLiveJobs', 'created_at': 'Wed Apr 13 20:06:03 +0000 2022', 'lng': -1.80341797, 'lat': 52.41786685, 'text': 'Maintenance Operative - City, Birmingham https://t.co/30a7LqAYKh - Click to apply #Jobibo #JobsInBirmingham #BirminghamLiveJobs'}\n",
            "{'id': 1514334121006403589, 'username': 'PaddyHollis123', 'created_at': 'Wed Apr 13 20:06:04 +0000 2022', 'lng': -1.390403, 'lat': 54.760484000000005, 'text': 'Matete is showing signs of being a very good midfielder for SAFC, my latest for @RokerReport ✍️⚽️'}\n",
            "{'id': 1514334121253818382, 'username': 'WobblyBoater', 'created_at': 'Wed Apr 13 20:06:04 +0000 2022', 'lng': 0.5115780000000001, 'lat': 52.2204505, 'text': '@BoatSheila Thanks, let’s hope it’s sunny. Met office can’t make its mind up. Two days ago it was going to be cloud… https://t.co/aMHJ6To6yA'}\n",
            "{'id': 1514334122113646596, 'username': 'kystuckey', 'created_at': 'Wed Apr 13 20:06:04 +0000 2022', 'lng': -2.298134, 'lat': 52.84709, 'text': '“Ohhhh, That Meena!!!”🙍🏻\\u200d♀️🙎🏻\\u200d♀️😱😰😨👩🏻😈💀☠️⚰️💔💨🌬- “She’s that evil!!!” 🙍🏻\\u200d♀️🙎🏻\\u200d♀️😱😰😨👩🏻😈💀☠️⚰️💔💨🌬- “I’m not sure who’s… https://t.co/g7FH7WxZUw'}\n",
            "{'id': 1514334122713436162, 'username': 'EstimateNews', 'created_at': 'Wed Apr 13 20:06:04 +0000 2022', 'lng': -0.12896, 'lat': 51.508849, 'text': 'Just posted a photo @ National Gallery https://t.co/WNOHlZ0BsR'}\n",
            "{'id': 1514334122902179843, 'username': 'jervis_mark', 'created_at': 'Wed Apr 13 20:06:04 +0000 2022', 'lng': -0.6315115, 'lat': 51.468569, 'text': \"@MrsLouisaHarris I still get audio books, right? 😃Regardless, I'd keep music ... and fill the book space with podcasts.\"}\n",
            "{'id': 1514334123690795011, 'username': 'Richard_Parker', 'created_at': 'Wed Apr 13 20:06:04 +0000 2022', 'lng': -1.0750484999999999, 'lat': 53.504823, 'text': 'Absolutely my favourite trainer!'}\n",
            "{'id': 1514334125498511374, 'username': 'Johnyboylufc', 'created_at': 'Wed Apr 13 20:06:05 +0000 2022', 'lng': -0.33394250000000003, 'lat': 53.765817, 'text': '@EmKayeWhy @madamemacca @PaulGoldsmith73 @Pamaro25 Is this your bio 🤷🏽\\u200d♂️ https://t.co/2uKDoGgHU3'}\n",
            "{'id': 1514334128170319874, 'username': 'ped1980', 'created_at': 'Wed Apr 13 20:06:05 +0000 2022', 'lng': 0.4110205, 'lat': 51.619615499999995, 'text': '63 mins - @SungateFc 1-0 @WoodfordEastFC - Deadlock broken at New Lodge as Olympian side lead after Lee Samways lay… https://t.co/RQIqhBVVx6'}\n",
            "{'id': 1514334129172664323, 'username': 'RussellGallery', 'created_at': 'Wed Apr 13 20:06:06 +0000 2022', 'lng': -9.083725, 'lat': 53.1553472, 'text': 'Just posted a photo @ the Russell Gallery https://t.co/YyXBEoMYDF'}\n",
            "{'id': 1514334130334486529, 'username': 'RossMatthewGat3', 'created_at': 'Wed Apr 13 20:06:06 +0000 2022', 'lng': -0.159403, 'lat': 51.5424365, 'text': '@ahmedhankir Enjoy at the @ahmedhankir, you cannot beat a good old cup of coffee, I say.. a nice strong black one! 👍💯🙏'}\n",
            "{'id': 1514334130875609091, 'username': 'boulty73', 'created_at': 'Wed Apr 13 20:06:06 +0000 2022', 'lng': -1.2078389999999999, 'lat': 52.1183725, 'text': \"@GaryLineker Unless you're the prawn sandwich brigade 😝😝\"}\n",
            "{'id': 1514334139310391300, 'username': 'nchambers_geog', 'created_at': 'Wed Apr 13 20:06:08 +0000 2022', 'lng': -6.81351, 'lat': 54.667202, 'text': \"@H_Miss88 Yes!!! You're down the road from me. Enjoy!!!!\"}\n",
            "{'id': 1514334141973733407, 'username': 'FlyingWarden', 'created_at': 'Wed Apr 13 20:06:09 +0000 2022', 'lng': -0.54739, 'lat': 53.220721, 'text': \"@oxford_dave @campbellclaret @theresa_may @sajidjavid @Jeremy_Hunt That's the idea.\"}\n",
            "{'id': 1514334142787375108, 'username': 'StMarksM12', 'created_at': 'Wed Apr 13 20:06:09 +0000 2022', 'lng': -2.23348, 'lat': 53.4569525, 'text': '@HamnettPhil @toffsretro …. Still waiting, patient, but gaggin for you to make this top non the less 😉'}\n",
            "{'id': 1514334144364437512, 'username': 'fitamin_c', 'created_at': 'Wed Apr 13 20:06:09 +0000 2022', 'lng': -3.1864850000000002, 'lat': 51.665099, 'text': '@srobvet Missed you all too! Hopefully back next week! ❤️'}\n",
            "{'id': 1514334147325607941, 'username': 'MikeRacksSweaty', 'created_at': 'Wed Apr 13 20:06:10 +0000 2022', 'lng': -1.3191869999999999, 'lat': 51.396015, 'text': \"What's the time Mr 🦊 https://t.co/sAQkodi9mW\"}\n",
            "{'id': 1514334149548691457, 'username': 'alan_platt', 'created_at': 'Wed Apr 13 20:06:10 +0000 2022', 'lng': -2.574512, 'lat': 53.475006, 'text': '@LeaRobertsComic @HalifaxGolfClub @garethwiddop Looks like a cold day in Halifax Lea'}\n",
            "{'id': 1514334149636730889, 'username': 'wendy_TRG', 'created_at': 'Wed Apr 13 20:06:10 +0000 2022', 'lng': -4.654965499999999, 'lat': 52.085817, 'text': 'Last rays of sun on the Mallard pond Mute Swan with at least 5 Sedge Warblers and a Grasshopper Warbler singing nea… https://t.co/WHHj7UL6KI'}\n",
            "{'id': 1514334150014259210, 'username': 'SoundHireSurrey', 'created_at': 'Wed Apr 13 20:06:10 +0000 2022', 'lng': -0.5688858, 'lat': 51.22903287, 'text': 'Just posted a photo @ The Sound &amp; Light Hire Company Surrey &amp; London Event Equipment Hire Company https://t.co/5xGTJiUdLH'}\n",
            "{'id': 1514334152027525125, 'username': 'Kkphotography_', 'created_at': 'Wed Apr 13 20:06:11 +0000 2022', 'lng': -2.21614838, 'lat': 51.49328008, 'text': '@ryanhughes20 @teamgarage500 @castlecombecircuituk @ Castle Combe Circuit https://t.co/DMFT2HgDZ9'}\n",
            "{'id': 1514334151364780039, 'username': 'lauraannmannion', 'created_at': 'Wed Apr 13 20:06:11 +0000 2022', 'lng': -4.0016169999999995, 'lat': 52.404436, 'text': '#thegirls #sophieAis7today #birthdaygirlBest. Day. Ever. Happy Birthday Soph 💜 https://t.co/ZtrzuzDPVJ'}\n",
            "{'id': 1514334152757231617, 'username': 'HarryVerity75', 'created_at': 'Wed Apr 13 20:06:11 +0000 2022', 'lng': -1.4496120000000001, 'lat': 53.3831645, 'text': 'When Belfast won on Sunday and people were saying that they played well'}\n",
            "{'id': 1514334153948418050, 'username': 'fraxis', 'created_at': 'Wed Apr 13 20:06:11 +0000 2022', 'lng': -0.7542615, 'lat': 51.410747, 'text': '@RajatVerma__ @iupdate @VadimYuryev There was already a quick test in todays video - and the results were actually worse!'}\n",
            "{'id': 1514334157773672452, 'username': 'charles_sheff10', 'created_at': 'Wed Apr 13 20:06:12 +0000 2022', 'lng': -1.4496120000000001, 'lat': 53.3831645, 'text': '@Iromg Could be grewed? But always grows in value obviously 😊'}\n",
            "{'id': 1514334159333904398, 'username': 'MarkCricketClub', 'created_at': 'Wed Apr 13 20:06:13 +0000 2022', 'lng': -3.927119, 'lat': 50.997507, 'text': 'Team for Saturday away to @Churchill__CC ⌚️1:30📍BS25 5NHSam TinklinLee TinklinTim MoxeyLee NeilsonAustin Pet… https://t.co/U9JyX6kTD9'}\n",
            "{'id': 1514334162261614593, 'username': 'MelLangtonArt', 'created_at': 'Wed Apr 13 20:06:13 +0000 2022', 'lng': -0.54739, 'lat': 53.220721, 'text': \"I'm so glad you like it @StBarnabasLinc 😊💙\"}\n",
            "{'id': 1514334164362924054, 'username': 'mikeyd87', 'created_at': 'Wed Apr 13 20:06:14 +0000 2022', 'lng': -2.3267745, 'lat': 53.4001995, 'text': 'Why is it when you have a couple of beers...you instantly get a taste for it, and wanna get on it 🤣🤣'}\n",
            "{'id': 1514334164442664970, 'username': 'beanomcbean', 'created_at': 'Wed Apr 13 20:06:14 +0000 2022', 'lng': -1.216432, 'lat': 54.67899, 'text': 'Is this true'}\n",
            "{'id': 1514334166350979074, 'username': 'MooreMolenan', 'created_at': 'Wed Apr 13 20:06:14 +0000 2022', 'lng': -6.81351, 'lat': 54.667202, 'text': '@tomallenstevens @matthewnaylor @FarmDroidUK @OPICOag It’s a big field - how does it get refilled? 🤔'}\n",
            "{'id': 1514334166896328711, 'username': 'Martyn210', 'created_at': 'Wed Apr 13 20:06:15 +0000 2022', 'lng': -2.124442, 'lat': 52.493733500000005, 'text': '@tombyford @PrideInLondon Lovely photos of some really nice people.'}\n",
            "{'id': 1514334167538057218, 'username': 'king_body_art', 'created_at': 'Wed Apr 13 20:06:15 +0000 2022', 'lng': -1.8906405, 'lat': 52.4939665, 'text': '@MattyPaddock do you think you could reach out see what could be ?'}\n",
            "{'id': 1514334169274408970, 'username': 'PamJohns6', 'created_at': 'Wed Apr 13 20:06:15 +0000 2022', 'lng': -2.058754, 'lat': 51.943121500000004, 'text': '@soulofashu Nice Ashu'}\n",
            "{'id': 1514334170889310210, 'username': 'BossFC2016', 'created_at': 'Wed Apr 13 20:06:15 +0000 2022', 'lng': -3.927119, 'lat': 50.997507, 'text': '🐝🐝🐝🐝🐝 What scenes after the game!!!! we secured promotion to @Stroud_League  Division 5! Overwhelmed 🏆 5-2 Win 🔥🔥🔥🔥🔥'}\n",
            "{'id': 1514334171640045581, 'username': 'ClubHarehills', 'created_at': 'Wed Apr 13 20:06:16 +0000 2022', 'lng': -1.56549, 'lat': 53.801956000000004, 'text': 'After 6 winners last week ordinarily it would have been the same team however with 3 players unable to make it we p… https://t.co/VF54pvL3Lb'}\n",
            "{'id': 1514334173846282254, 'username': 'taylor_rich1978', 'created_at': 'Wed Apr 13 20:06:16 +0000 2022', 'lng': -0.2527539999999999, 'lat': 51.3854455, 'text': 'Imagine Gazza playing now. What a player'}\n",
            "{'id': 1514334175867940874, 'username': 'ProperFood_ie', 'created_at': 'Wed Apr 13 20:06:17 +0000 2022', 'lng': -6.174398500000001, 'lat': 53.257283, 'text': '@tikkin @WiseKingAido She is so freaking beautiful!'}\n",
            "{'id': 1514334175830097931, 'username': 'anbustan', 'created_at': 'Wed Apr 13 20:06:17 +0000 2022', 'lng': -0.1937195, 'lat': 51.4516565, 'text': '#KGFChapter2 1st half.Unbelievable screenplay, editing, mass scene 🥺🥺 @prashanth_neel @TheNameIsYash where were y… https://t.co/sXq3Qw3IXw'}\n",
            "{'id': 1514334177537269767, 'username': 'BlackDahlia1892', 'created_at': 'Wed Apr 13 20:06:17 +0000 2022', 'lng': -2.915427, 'lat': 53.4198785, 'text': \"@Yukikobestgirl Nice one I'll give it a look, wouldn't attempt to take on any Tekken pro's but I can hold my own at… https://t.co/wTayhTD2eZ\"}\n",
            "{'id': 1514334177696661516, 'username': 'DarganPierce', 'created_at': 'Wed Apr 13 20:06:17 +0000 2022', 'lng': -6.2476215, 'lat': 53.354902499999994, 'text': 'We just won @SFA_Irl Award for Ireland’s Outstanding Small Business in 2022!!! 🏆 #SFAAwards2022 https://t.co/x4tqXF2jE5'}\n",
            "{'id': 1514334179495981057, 'username': 'LeGrandPatsay', 'created_at': 'Wed Apr 13 20:06:18 +0000 2022', 'lng': -7.3404535, 'lat': 54.97778, 'text': '@cooldiscsmusic @RSDUK Buy local. Buy often.'}\n",
            "{'id': 1514334178954948614, 'username': 'naojane18_PT', 'created_at': 'Wed Apr 13 20:06:17 +0000 2022', 'lng': -1.2301575, 'lat': 52.924444, 'text': '@TaritTweets In a field above Edale, cute black lambs! https://t.co/QVjYe4Scmt'}\n",
            "{'id': 1514334179726700545, 'username': 'clarkemartyn1', 'created_at': 'Wed Apr 13 20:06:18 +0000 2022', 'lng': -2.653238, 'lat': 53.543454, 'text': 'Just a huge thanks to @GMProjects2017 the time and effort put into #swankydoo for @mndassoc inspired by the magical… https://t.co/r4KawCmucR'}\n",
            "{'id': 1514334189214175245, 'username': 'jamespaton15', 'created_at': 'Wed Apr 13 20:06:20 +0000 2022', 'lng': -2.0949935, 'lat': 55.8691625, 'text': '@ProfTomkins And your old boss care to comment'}\n",
            "{'id': 1514334195551805445, 'username': 'FrankGeurts3', 'created_at': 'Wed Apr 13 20:06:21 +0000 2022', 'lng': 5.745368, 'lat': 51.746487, 'text': '@swsjoerdsma About on million people know what you are. Your head is somewhere else and not with your people. Peopl… https://t.co/wAh5qen8m0'}\n",
            "{'id': 1514334200295534597, 'username': 'gingio', 'created_at': 'Wed Apr 13 20:06:22 +0000 2022', 'lng': -3.1798, 'lat': 51.497001499999996, 'text': 'When do we get to “one fine too many”? #Partygate #Partygatefines #BorisJohnsonResign'}\n",
            "{'id': 1514334203869028354, 'username': 'Emii_xii', 'created_at': 'Wed Apr 13 20:06:23 +0000 2022', 'lng': -0.17311500000000002, 'lat': 51.524835499999995, 'text': '@tammyforla Yes please!'}\n",
            "{'id': 1514334203780993024, 'username': 'brookecombe', 'created_at': 'Wed Apr 13 20:06:23 +0000 2022', 'lng': -4.200441, 'lat': 57.739454, 'text': '@Mikecrowe15 That’s the money right there'}\n",
            "{'id': 1514334207513874435, 'username': 'JasikJas', 'created_at': 'Wed Apr 13 20:06:24 +0000 2022', 'lng': -0.36118, 'lat': 51.525432499999994, 'text': '@Bhuchal aww what a lovely picture 👏👏A very happy thoughtful peaceful Vaisakhi to you'}\n",
            "{'id': 1514334210718380038, 'username': 'FatimaDuerden', 'created_at': 'Wed Apr 13 20:06:25 +0000 2022', 'lng': -0.0706035, 'lat': 51.464686, 'text': '@Mike_Fabricant You’re talking out of your culo, or should I say arse? You’re pitiful.'}\n",
            "{'id': 1514334213180375052, 'username': 'MillfieldSport', 'created_at': 'Wed Apr 13 20:06:26 +0000 2022', 'lng': -3.927119, 'lat': 50.997507, 'text': 'This is where you can help us celebrate our brilliant OMs alongside our new Sports Awards celebrating students, coa… https://t.co/tZqDZKQQrl'}\n",
            "{'id': 1514334215273435149, 'username': 'RonofBircotes', 'created_at': 'Wed Apr 13 20:06:26 +0000 2022', 'lng': -1.2357245, 'lat': 53.4838395, 'text': '@jebinj90 Evening Jeb xxx'}\n",
            "{'id': 1514334216229691397, 'username': 'Boblex', 'created_at': 'Wed Apr 13 20:06:26 +0000 2022', 'lng': -0.0601675, 'lat': 51.547644500000004, 'text': '@TheGunnersPub @captsingh @reacctionary @BrettButler1111 Been back to work again'}\n",
            "{'id': 1514334217345323015, 'username': 'ChrisMaslanka', 'created_at': 'Wed Apr 13 20:06:27 +0000 2022', 'lng': -4.0016169999999995, 'lat': 52.404436, 'text': 'The French have had to put up with this vacuous poseur for years.'}\n",
            "{'id': 1514334221753622534, 'username': 'mjmccanny', 'created_at': 'Wed Apr 13 20:06:28 +0000 2022', 'lng': -5.928413, 'lat': 54.595869, 'text': 'Great event for the City  -welcoming  dancers and their families  from around the world… https://t.co/eSqYkytokN'}\n",
            "{'id': 1514334221858451465, 'username': 'Socialkindness1', 'created_at': 'Wed Apr 13 20:06:28 +0000 2022', 'lng': -0.7640635, 'lat': 52.033567000000005, 'text': '@StillShielding @mikegalsworthy As a victim, right?'}\n",
            "{'id': 1514334229919895562, 'username': 'fitamin_c', 'created_at': 'Wed Apr 13 20:06:30 +0000 2022', 'lng': -3.1864850000000002, 'lat': 51.665099, 'text': '@SimplySeedZ I’m ready for my bed tonight… so is Winston! 🤣❤️'}\n",
            "{'id': 1514334231702474768, 'username': 'brookecombe', 'created_at': 'Wed Apr 13 20:06:30 +0000 2022', 'lng': -4.200441, 'lat': 57.739454, 'text': '@MartinR16416014 Braw'}\n",
            "{'id': 1514334233938075656, 'username': 'NotoriousGimp', 'created_at': 'Wed Apr 13 20:06:30 +0000 2022', 'lng': -2.1064075, 'lat': 52.592258, 'text': '@thenottmknight 4 for £20 mate'}\n",
            "{'id': 1514334234839764996, 'username': 'LizziePook', 'created_at': 'Wed Apr 13 20:06:31 +0000 2022', 'lng': -0.306996, 'lat': 51.4405145, 'text': '@amymcculloch @ohdobookoff @harriet_tyce Excellent emojis! (And I am so, so honoured. Thank you ❤️)'}\n",
            "{'id': 1514334235213115394, 'username': 'fatimahhabibi', 'created_at': 'Wed Apr 13 20:06:31 +0000 2022', 'lng': -1.8906405, 'lat': 52.4939665, 'text': 'Life is mad, at times when you think you might not be truly happy again or things won’t ever work and suddenly new… https://t.co/sagmP9DS5c'}\n",
            "{'id': 1514334244570648584, 'username': 'Northlakesuk', 'created_at': 'Wed Apr 13 20:06:33 +0000 2022', 'lng': -2.7751315, 'lat': 54.068005, 'text': '@graeme_liddle Nice once you get into Wreay woods the noise of the M6 is not as bad'}\n",
            "{'id': 1514334246768418823, 'username': 'stimmo64', 'created_at': 'Wed Apr 13 20:06:34 +0000 2022', 'lng': -2.8563454999999998, 'lat': 54.0477955, 'text': '@BoroLee86 It looks like the fans have embraced the shithousery, and have adopted the ‘no one likes us’ mentality,… https://t.co/IllsiqNoNn'}\n"
          ]
        },
        {
          "data": {
            "application/javascript": "\n    async function download(id, filename, size) {\n      if (!google.colab.kernel.accessAllowed) {\n        return;\n      }\n      const div = document.createElement('div');\n      const label = document.createElement('label');\n      label.textContent = `Downloading \"${filename}\": `;\n      div.appendChild(label);\n      const progress = document.createElement('progress');\n      progress.max = size;\n      div.appendChild(progress);\n      document.body.appendChild(div);\n\n      const buffers = [];\n      let downloaded = 0;\n\n      const channel = await google.colab.kernel.comms.open(id);\n      // Send a message to notify the kernel that we're ready.\n      channel.send({})\n\n      for await (const message of channel.messages) {\n        // Send a message to notify the kernel that we're ready.\n        channel.send({})\n        if (message.buffers) {\n          for (const buffer of message.buffers) {\n            buffers.push(buffer);\n            downloaded += buffer.byteLength;\n            progress.value = downloaded;\n          }\n        }\n      }\n      const blob = new Blob(buffers, {type: 'application/binary'});\n      const a = document.createElement('a');\n      a.href = window.URL.createObjectURL(blob);\n      a.download = filename;\n      div.appendChild(a);\n      a.click();\n      div.remove();\n    }\n  ",
            "text/plain": [
              "<IPython.core.display.Javascript object>"
            ]
          },
          "metadata": {},
          "output_type": "display_data"
        },
        {
          "data": {
            "application/javascript": "download(\"download_498cf76b-13c6-4b68-bf53-5ce0b724051f\", \"geotweets.csv\", 19695)",
            "text/plain": [
              "<IPython.core.display.Javascript object>"
            ]
          },
          "metadata": {},
          "output_type": "display_data"
        },
        {
          "name": "stdout",
          "output_type": "stream",
          "text": [
            "the csv has been downloaded to your local computer. The program has been completed successfully.\n"
          ]
        },
        {
          "data": {
            "application/javascript": "\n    async function download(id, filename, size) {\n      if (!google.colab.kernel.accessAllowed) {\n        return;\n      }\n      const div = document.createElement('div');\n      const label = document.createElement('label');\n      label.textContent = `Downloading \"${filename}\": `;\n      div.appendChild(label);\n      const progress = document.createElement('progress');\n      progress.max = size;\n      div.appendChild(progress);\n      document.body.appendChild(div);\n\n      const buffers = [];\n      let downloaded = 0;\n\n      const channel = await google.colab.kernel.comms.open(id);\n      // Send a message to notify the kernel that we're ready.\n      channel.send({})\n\n      for await (const message of channel.messages) {\n        // Send a message to notify the kernel that we're ready.\n        channel.send({})\n        if (message.buffers) {\n          for (const buffer of message.buffers) {\n            buffers.push(buffer);\n            downloaded += buffer.byteLength;\n            progress.value = downloaded;\n          }\n        }\n      }\n      const blob = new Blob(buffers, {type: 'application/binary'});\n      const a = document.createElement('a');\n      a.href = window.URL.createObjectURL(blob);\n      a.download = filename;\n      div.appendChild(a);\n      a.click();\n      div.remove();\n    }\n  ",
            "text/plain": [
              "<IPython.core.display.Javascript object>"
            ]
          },
          "metadata": {},
          "output_type": "display_data"
        },
        {
          "data": {
            "application/javascript": "download(\"download_f56243a2-f83f-4140-a005-b00b3fce39aa\", \"geotweets.csv\", 19695)",
            "text/plain": [
              "<IPython.core.display.Javascript object>"
            ]
          },
          "metadata": {},
          "output_type": "display_data"
        },
        {
          "name": "stdout",
          "output_type": "stream",
          "text": [
            "the csv has been downloaded to your local computer. The program has been completed successfully.\n"
          ]
        }
      ],
      "source": [
        "if __name__ == \"__main__\":\n",
        "    # These are provided to you through the Twitter API after you create a account\n",
        "    # register a Twitter App to get the keys and access tokens.\n",
        "    output_file = '/gdrive/My Drive/geotweets.csv'\n",
        "\n",
        "    # Apply for your own Twitter API keys at https://developer.twitter.com/en/apply-for-access\n",
        "    consumer_key = \n",
        "    consumer_secret = \n",
        "    access_token = \n",
        "    access_token_secret = \n",
        "\n",
        "    myauth = tweepy.OAuthHandler(consumer_key, consumer_secret)\n",
        "    myauth.set_access_token(access_token, access_token_secret)\n",
        "\n",
        "    # LOCATIONS are the longitude, latitude coordinate corners for a box that restricts the\n",
        "    # geographic area from which you will stream tweets. The first two define the southwest\n",
        "    # corner of the box and the second two define the northeast corner of the box.\n",
        "    LOCATIONS = [-114.076294, 51.045925, 106.3468, 56.1304]  # UK\n",
        "       \n",
        "\n",
        "    stream_listener = StreamListener(time_limit=60, file=output_file)\n",
        "    stream = tweepy.Stream(auth=myauth, listener=stream_listener)\n",
        "    stream.filter(locations=LOCATIONS, languages=['en'], encoding=\"utf-8\")\n",
        "    stream.filter(track=['coronavirus'])"
      ]
    }
  ],
  "metadata": {
    "colab": {
      "collapsed_sections": [],
      "name": "Copy of 02_geosearch.ipynb",
      "provenance": []
    },
    "kernelspec": {
      "display_name": "Python 3",
      "language": "python",
      "name": "python3"
    },
    "language_info": {
      "codemirror_mode": {
        "name": "ipython",
        "version": 3
      },
      "file_extension": ".py",
      "mimetype": "text/x-python",
      "name": "python",
      "nbconvert_exporter": "python",
      "pygments_lexer": "ipython3",
      "version": "3.7.4"
    }
  },
  "nbformat": 4,
  "nbformat_minor": 0
}
